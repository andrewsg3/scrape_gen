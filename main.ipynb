{
 "cells": [
  {
   "cell_type": "code",
   "execution_count": 1,
   "id": "47dc7adc",
   "metadata": {},
   "outputs": [],
   "source": [
    "from retrieve_images import retrieve_images"
   ]
  },
  {
   "cell_type": "code",
   "execution_count": 5,
   "id": "3c5ffe38",
   "metadata": {},
   "outputs": [],
   "source": [
    "search = \"dog\"\n",
    "driverpath = \"C:/Users/andre/Desktop/Image_Scraper_Generator/chromedriver.exe\"\n",
    "n_images = 5\n"
   ]
  },
  {
   "cell_type": "code",
   "execution_count": 6,
   "id": "63bc4f80",
   "metadata": {},
   "outputs": [
    {
     "name": "stdout",
     "output_type": "stream",
     "text": [
      "Found: 100 search results. Extracting links from 0:100\n",
      "Found: 5 image links, done!\n",
      "SUCCESS - saved https://hips.hearstapps.com/hmg-prod.s3.amazonaws.com/images/dog-puppy-on-garden-royalty-free-image-1586966191.jpg?crop=1.00xw:0.669xh;0,0.190xh&resize=1200:* - as ./images\\dog\\3fb7d7c4ef.jpg\n",
      "SUCCESS - saved https://i.ytimg.com/vi/MPV2METPeJU/maxresdefault.jpg - as ./images\\dog\\b61b601eea.jpg\n",
      "SUCCESS - saved https://hips.hearstapps.com/hmg-prod.s3.amazonaws.com/images/golden-retriever-royalty-free-image-506756303-1560962726.jpg?crop=0.672xw:1.00xh;0.166xw,0&resize=640:* - as ./images\\dog\\4fdbeb98ad.jpg\n",
      "SUCCESS - saved https://i.insider.com/5484d9d1eab8ea3017b17e29?width=600&format=jpeg&auto=webp - as ./images\\dog\\b50bad13c7.jpg\n",
      "SUCCESS - saved https://i.guim.co.uk/img/media/fe1e34da640c5c56ed16f76ce6f994fa9343d09d/0_174_3408_2046/master/3408.jpg?width=1200&height=900&quality=85&auto=format&fit=crop&s=0d3f33fb6aa6e0154b7713a00454c83d - as ./images\\dog\\e886dbf2be.jpg\n"
     ]
    }
   ],
   "source": [
    "retrieve_images(search,driverpath,n_images)"
   ]
  }
 ],
 "metadata": {
  "kernelspec": {
   "display_name": "Python 3 (ipykernel)",
   "language": "python",
   "name": "python3"
  },
  "language_info": {
   "codemirror_mode": {
    "name": "ipython",
    "version": 3
   },
   "file_extension": ".py",
   "mimetype": "text/x-python",
   "name": "python",
   "nbconvert_exporter": "python",
   "pygments_lexer": "ipython3",
   "version": "3.9.7"
  }
 },
 "nbformat": 4,
 "nbformat_minor": 5
}
