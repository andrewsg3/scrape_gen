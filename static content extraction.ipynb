{
 "cells": [
  {
   "cell_type": "code",
   "execution_count": null,
   "metadata": {},
   "outputs": [],
   "source": [
    "#static pages\n",
    "import requests\n",
    "import pandas as pd\n",
    "from bs4 import BeautifulSoup\n",
    "\n",
    "# download wikipage\n",
    "wikipage = \"https://en.wikipedia.org/wiki/List_of_sovereign_states_and_dependent_territories_by_continent_(data_file)\"\n",
    "result = requests.get(wikipage)\n",
    "\n",
    "# if successful parse the download into a BeautifulSoup object, which allows easy manipulation \n",
    "if result.status_code == 200:\n",
    "    soup = BeautifulSoup(result.content, \"html.parser\")\n",
    "    \n",
    "# find the object with HTML class wikitable sortable\n",
    "table = soup.find('table',{'class':'wikitable sortable'})\n",
    "\n",
    "# loop through all the rows and pull the text\n",
    "new_table = []\n",
    "for row in table.find_all('tr')[1:]:\n",
    "    column_marker = 0\n",
    "    columns = row.find_all('td')\n",
    "    new_table.append([column.get_text() for column in columns])\n",
    "    \n",
    "df = pd.DataFrame(new_table, columns=['ContinentCode','Alpha2','Alpha3','PhoneCode','Name'])\n",
    "df['Name'] = df['Name'].str.replace('\\n','')\n",
    "df"
   ]
  }
 ],
 "metadata": {
  "kernelspec": {
   "display_name": "Python 3",
   "language": "python",
   "name": "python3"
  },
  "language_info": {
   "codemirror_mode": {
    "name": "ipython",
    "version": 3
   },
   "file_extension": ".py",
   "mimetype": "text/x-python",
   "name": "python",
   "nbconvert_exporter": "python",
   "pygments_lexer": "ipython3",
   "version": "3.8.5"
  }
 },
 "nbformat": 4,
 "nbformat_minor": 4
}
